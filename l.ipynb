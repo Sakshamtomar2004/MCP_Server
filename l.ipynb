{
 "cells": [
  {
   "cell_type": "code",
   "execution_count": null,
   "id": "805196ca",
   "metadata": {
    "vscode": {
     "languageId": "plaintext"
    }
   },
   "outputs": [],
   "source": [
    "{\n",
    "  \"mcpServers\": {\n",
    "    \"weather\": {\n",
    "      \"command\": \"C:/Users/asus/AppData/Local/Packages/PythonSoftwareFoundation.Python.3.13_qbz5n2kfra8p0/LocalCache/local-packages/Python313/Scripts/uvx.exe\",\n",
    "      \"args\": [\n",
    "        \"--from\",\n",
    "        \"git+https://github.com/adhikasp/mcp-weather.git\",\n",
    "        \"mcp-weather\"\n",
    "      ],\n",
    "      \"env\": {\n",
    "        \"ACCUWEATHER_API_KEY\": \"zpka_4300ef99ee554a48bcc8c7d4sfd4f7e340c_9aa214de\"\n",
    "      }\n",
    "    },\n",
    "    \"my-server\": {\n",
    "      \"command\": \"C:/Users/asus/AppData/Local/Microsoft/WindowsApps/python.exe\",\n",
    "      \"args\": [\n",
    "        \"D:/CA_content/Python/MCP_Server/CampusX/main.py\"\n",
    "      ]\n",
    "    }\n",
    "  }\n",
    "}\n"
   ]
  }
 ],
 "metadata": {
  "language_info": {
   "name": "python"
  }
 },
 "nbformat": 4,
 "nbformat_minor": 5
}
