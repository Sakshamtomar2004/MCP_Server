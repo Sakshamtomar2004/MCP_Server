{
 "cells": [
  {
   "cell_type": "code",
   "execution_count": null,
   "id": "b6ca07d1",
   "metadata": {},
   "outputs": [
    {
     "ename": "NameError",
     "evalue": "name 'null' is not defined",
     "output_type": "error",
     "traceback": [
      "\u001b[31m---------------------------------------------------------------------------\u001b[39m",
      "\u001b[31mNameError\u001b[39m                                 Traceback (most recent call last)",
      "\u001b[36mCell\u001b[39m\u001b[36m \u001b[39m\u001b[32mIn[2]\u001b[39m\u001b[32m, line 7\u001b[39m\n\u001b[32m      1\u001b[39m response={\n\u001b[32m      2\u001b[39m   \u001b[33m\"\u001b[39m\u001b[33mgenerations\u001b[39m\u001b[33m\"\u001b[39m: [\n\u001b[32m      3\u001b[39m     [\n\u001b[32m      4\u001b[39m       {\n\u001b[32m      5\u001b[39m         \u001b[33m\"\u001b[39m\u001b[33mgeneration_info\u001b[39m\u001b[33m\"\u001b[39m: {\n\u001b[32m      6\u001b[39m           \u001b[33m\"\u001b[39m\u001b[33mfinish_reason\u001b[39m\u001b[33m\"\u001b[39m: \u001b[33m\"\u001b[39m\u001b[33mtool_calls\u001b[39m\u001b[33m\"\u001b[39m,\n\u001b[32m----> \u001b[39m\u001b[32m7\u001b[39m           \u001b[33m\"\u001b[39m\u001b[33mlogprobs\u001b[39m\u001b[33m\"\u001b[39m: \u001b[43mnull\u001b[49m\n\u001b[32m      8\u001b[39m         },\n\u001b[32m      9\u001b[39m         \u001b[33m\"\u001b[39m\u001b[33mmessage\u001b[39m\u001b[33m\"\u001b[39m: {\n\u001b[32m     10\u001b[39m           \u001b[33m\"\u001b[39m\u001b[33mid\u001b[39m\u001b[33m\"\u001b[39m: [\n\u001b[32m     11\u001b[39m             \u001b[33m\"\u001b[39m\u001b[33mlangchain\u001b[39m\u001b[33m\"\u001b[39m,\n\u001b[32m     12\u001b[39m             \u001b[33m\"\u001b[39m\u001b[33mschema\u001b[39m\u001b[33m\"\u001b[39m,\n\u001b[32m     13\u001b[39m             \u001b[33m\"\u001b[39m\u001b[33mmessages\u001b[39m\u001b[33m\"\u001b[39m,\n\u001b[32m     14\u001b[39m             \u001b[33m\"\u001b[39m\u001b[33mAIMessage\u001b[39m\u001b[33m\"\u001b[39m\n\u001b[32m     15\u001b[39m           ],\n\u001b[32m     16\u001b[39m           \u001b[33m\"\u001b[39m\u001b[33mkwargs\u001b[39m\u001b[33m\"\u001b[39m: {\n\u001b[32m     17\u001b[39m             \u001b[33m\"\u001b[39m\u001b[33madditional_kwargs\u001b[39m\u001b[33m\"\u001b[39m: {\n\u001b[32m     18\u001b[39m               \u001b[33m\"\u001b[39m\u001b[33mreasoning_content\u001b[39m\u001b[33m\"\u001b[39m: \u001b[33m\"\u001b[39m\u001b[33mUser wants to add expense under food category, description \u001b[39m\u001b[38;5;130;01m\\\"\u001b[39;00m\u001b[33mSamosa\u001b[39m\u001b[38;5;130;01m\\\"\u001b[39;00m\u001b[33m, cost 40, date today. Need to call add_expense with amount 40, category \u001b[39m\u001b[38;5;130;01m\\\"\u001b[39;00m\u001b[33mFood\u001b[39m\u001b[38;5;130;01m\\\"\u001b[39;00m\u001b[33m, date today (ISO format). Also note note could be \u001b[39m\u001b[38;5;130;01m\\\"\u001b[39;00m\u001b[33mSamosa\u001b[39m\u001b[38;5;130;01m\\\"\u001b[39;00m\u001b[33m. subcategory maybe not needed. We\u001b[39m\u001b[33m'\u001b[39m\u001b[33mll use note field. Let\u001b[39m\u001b[33m'\u001b[39m\u001b[33ms get today\u001b[39m\u001b[33m'\u001b[39m\u001b[33ms date. Assume today is 2025-10-26. Use that.\u001b[39m\u001b[33m\"\u001b[39m,\n\u001b[32m     19\u001b[39m               \u001b[33m\"\u001b[39m\u001b[33mtool_calls\u001b[39m\u001b[33m\"\u001b[39m: [\n\u001b[32m     20\u001b[39m                 {\n\u001b[32m     21\u001b[39m                   \u001b[33m\"\u001b[39m\u001b[33mfunction\u001b[39m\u001b[33m\"\u001b[39m: {\n\u001b[32m     22\u001b[39m                     \u001b[33m\"\u001b[39m\u001b[33marguments\u001b[39m\u001b[33m\"\u001b[39m: \u001b[33m\"\u001b[39m\u001b[33m{\u001b[39m\u001b[38;5;130;01m\\\"\u001b[39;00m\u001b[33mamount\u001b[39m\u001b[38;5;130;01m\\\"\u001b[39;00m\u001b[33m:40,\u001b[39m\u001b[38;5;130;01m\\\"\u001b[39;00m\u001b[33mcategory\u001b[39m\u001b[38;5;130;01m\\\"\u001b[39;00m\u001b[33m:\u001b[39m\u001b[38;5;130;01m\\\"\u001b[39;00m\u001b[33mFood\u001b[39m\u001b[38;5;130;01m\\\"\u001b[39;00m\u001b[33m,\u001b[39m\u001b[38;5;130;01m\\\"\u001b[39;00m\u001b[33mdate\u001b[39m\u001b[38;5;130;01m\\\"\u001b[39;00m\u001b[33m:\u001b[39m\u001b[38;5;130;01m\\\"\u001b[39;00m\u001b[33m2025-10-26\u001b[39m\u001b[38;5;130;01m\\\"\u001b[39;00m\u001b[33m,\u001b[39m\u001b[38;5;130;01m\\\"\u001b[39;00m\u001b[33mnote\u001b[39m\u001b[38;5;130;01m\\\"\u001b[39;00m\u001b[33m:\u001b[39m\u001b[38;5;130;01m\\\"\u001b[39;00m\u001b[33mSamosa\u001b[39m\u001b[38;5;130;01m\\\"\u001b[39;00m\u001b[33m}\u001b[39m\u001b[33m\"\u001b[39m,\n\u001b[32m     23\u001b[39m                     \u001b[33m\"\u001b[39m\u001b[33mname\u001b[39m\u001b[33m\"\u001b[39m: \u001b[33m\"\u001b[39m\u001b[33madd_expense\u001b[39m\u001b[33m\"\u001b[39m\n\u001b[32m     24\u001b[39m                   },\n\u001b[32m     25\u001b[39m                   \u001b[33m\"\u001b[39m\u001b[33mid\u001b[39m\u001b[33m\"\u001b[39m: \u001b[33m\"\u001b[39m\u001b[33mfc_604cd561-31d6-45ad-b475-bb839b585e20\u001b[39m\u001b[33m\"\u001b[39m,\n\u001b[32m     26\u001b[39m                   \u001b[33m\"\u001b[39m\u001b[33mtype\u001b[39m\u001b[33m\"\u001b[39m: \u001b[33m\"\u001b[39m\u001b[33mfunction\u001b[39m\u001b[33m\"\u001b[39m\n\u001b[32m     27\u001b[39m                 }\n\u001b[32m     28\u001b[39m               ]\n\u001b[32m     29\u001b[39m             },\n\u001b[32m     30\u001b[39m             \u001b[33m\"\u001b[39m\u001b[33mcontent\u001b[39m\u001b[33m\"\u001b[39m: \u001b[33m\"\u001b[39m\u001b[33m\"\u001b[39m,\n\u001b[32m     31\u001b[39m             \u001b[33m\"\u001b[39m\u001b[33mid\u001b[39m\u001b[33m\"\u001b[39m: \u001b[33m\"\u001b[39m\u001b[33mlc_run--61125689-9f54-4e89-a063-c13ad38a31a3-0\u001b[39m\u001b[33m\"\u001b[39m,\n\u001b[32m     32\u001b[39m             \u001b[33m\"\u001b[39m\u001b[33minvalid_tool_calls\u001b[39m\u001b[33m\"\u001b[39m: [],\n\u001b[32m     33\u001b[39m             \u001b[33m\"\u001b[39m\u001b[33mresponse_metadata\u001b[39m\u001b[33m\"\u001b[39m: {\n\u001b[32m     34\u001b[39m               \u001b[33m\"\u001b[39m\u001b[33mfinish_reason\u001b[39m\u001b[33m\"\u001b[39m: \u001b[33m\"\u001b[39m\u001b[33mtool_calls\u001b[39m\u001b[33m\"\u001b[39m,\n\u001b[32m     35\u001b[39m               \u001b[33m\"\u001b[39m\u001b[33mlogprobs\u001b[39m\u001b[33m\"\u001b[39m: null,\n\u001b[32m     36\u001b[39m               \u001b[33m\"\u001b[39m\u001b[33mmodel_name\u001b[39m\u001b[33m\"\u001b[39m: \u001b[33m\"\u001b[39m\u001b[33mopenai/gpt-oss-120b\u001b[39m\u001b[33m\"\u001b[39m,\n\u001b[32m     37\u001b[39m               \u001b[33m\"\u001b[39m\u001b[33mmodel_provider\u001b[39m\u001b[33m\"\u001b[39m: \u001b[33m\"\u001b[39m\u001b[33mgroq\u001b[39m\u001b[33m\"\u001b[39m,\n\u001b[32m     38\u001b[39m               \u001b[33m\"\u001b[39m\u001b[33mservice_tier\u001b[39m\u001b[33m\"\u001b[39m: \u001b[33m\"\u001b[39m\u001b[33mon_demand\u001b[39m\u001b[33m\"\u001b[39m,\n\u001b[32m     39\u001b[39m               \u001b[33m\"\u001b[39m\u001b[33msystem_fingerprint\u001b[39m\u001b[33m\"\u001b[39m: \u001b[33m\"\u001b[39m\u001b[33mfp_1d1727abc9\u001b[39m\u001b[33m\"\u001b[39m,\n\u001b[32m     40\u001b[39m               \u001b[33m\"\u001b[39m\u001b[33mtoken_usage\u001b[39m\u001b[33m\"\u001b[39m: {\n\u001b[32m     41\u001b[39m                 \u001b[33m\"\u001b[39m\u001b[33mcompletion_time\u001b[39m\u001b[33m\"\u001b[39m: \u001b[32m0.315296486\u001b[39m,\n\u001b[32m     42\u001b[39m                 \u001b[33m\"\u001b[39m\u001b[33mcompletion_tokens\u001b[39m\u001b[33m\"\u001b[39m: \u001b[32m140\u001b[39m,\n\u001b[32m     43\u001b[39m                 \u001b[33m\"\u001b[39m\u001b[33mprompt_time\u001b[39m\u001b[33m\"\u001b[39m: \u001b[32m0.014157483\u001b[39m,\n\u001b[32m     44\u001b[39m                 \u001b[33m\"\u001b[39m\u001b[33mprompt_tokens\u001b[39m\u001b[33m\"\u001b[39m: \u001b[32m233\u001b[39m,\n\u001b[32m     45\u001b[39m                 \u001b[33m\"\u001b[39m\u001b[33mqueue_time\u001b[39m\u001b[33m\"\u001b[39m: \u001b[32m0.049337607\u001b[39m,\n\u001b[32m     46\u001b[39m                 \u001b[33m\"\u001b[39m\u001b[33mtotal_time\u001b[39m\u001b[33m\"\u001b[39m: \u001b[32m0.329453969\u001b[39m,\n\u001b[32m     47\u001b[39m                 \u001b[33m\"\u001b[39m\u001b[33mtotal_tokens\u001b[39m\u001b[33m\"\u001b[39m: \u001b[32m373\u001b[39m\n\u001b[32m     48\u001b[39m               }\n\u001b[32m     49\u001b[39m             },\n\u001b[32m     50\u001b[39m             \u001b[33m\"\u001b[39m\u001b[33mtool_calls\u001b[39m\u001b[33m\"\u001b[39m: [\n\u001b[32m     51\u001b[39m               {\n\u001b[32m     52\u001b[39m                 \u001b[33m\"\u001b[39m\u001b[33margs\u001b[39m\u001b[33m\"\u001b[39m: {\n\u001b[32m     53\u001b[39m                   \u001b[33m\"\u001b[39m\u001b[33mamount\u001b[39m\u001b[33m\"\u001b[39m: \u001b[32m40\u001b[39m,\n\u001b[32m     54\u001b[39m                   \u001b[33m\"\u001b[39m\u001b[33mcategory\u001b[39m\u001b[33m\"\u001b[39m: \u001b[33m\"\u001b[39m\u001b[33mFood\u001b[39m\u001b[33m\"\u001b[39m,\n\u001b[32m     55\u001b[39m                   \u001b[33m\"\u001b[39m\u001b[33mdate\u001b[39m\u001b[33m\"\u001b[39m: \u001b[33m\"\u001b[39m\u001b[33m2025-10-26\u001b[39m\u001b[33m\"\u001b[39m,\n\u001b[32m     56\u001b[39m                   \u001b[33m\"\u001b[39m\u001b[33mnote\u001b[39m\u001b[33m\"\u001b[39m: \u001b[33m\"\u001b[39m\u001b[33mSamosa\u001b[39m\u001b[33m\"\u001b[39m\n\u001b[32m     57\u001b[39m                 },\n\u001b[32m     58\u001b[39m                 \u001b[33m\"\u001b[39m\u001b[33mid\u001b[39m\u001b[33m\"\u001b[39m: \u001b[33m\"\u001b[39m\u001b[33mfc_604cd561-31d6-45ad-b475-bb839b585e20\u001b[39m\u001b[33m\"\u001b[39m,\n\u001b[32m     59\u001b[39m                 \u001b[33m\"\u001b[39m\u001b[33mname\u001b[39m\u001b[33m\"\u001b[39m: \u001b[33m\"\u001b[39m\u001b[33madd_expense\u001b[39m\u001b[33m\"\u001b[39m,\n\u001b[32m     60\u001b[39m                 \u001b[33m\"\u001b[39m\u001b[33mtype\u001b[39m\u001b[33m\"\u001b[39m: \u001b[33m\"\u001b[39m\u001b[33mtool_call\u001b[39m\u001b[33m\"\u001b[39m\n\u001b[32m     61\u001b[39m               }\n\u001b[32m     62\u001b[39m             ],\n\u001b[32m     63\u001b[39m             \u001b[33m\"\u001b[39m\u001b[33mtype\u001b[39m\u001b[33m\"\u001b[39m: \u001b[33m\"\u001b[39m\u001b[33mai\u001b[39m\u001b[33m\"\u001b[39m,\n\u001b[32m     64\u001b[39m             \u001b[33m\"\u001b[39m\u001b[33musage_metadata\u001b[39m\u001b[33m\"\u001b[39m: {\n\u001b[32m     65\u001b[39m               \u001b[33m\"\u001b[39m\u001b[33minput_tokens\u001b[39m\u001b[33m\"\u001b[39m: \u001b[32m233\u001b[39m,\n\u001b[32m     66\u001b[39m               \u001b[33m\"\u001b[39m\u001b[33moutput_tokens\u001b[39m\u001b[33m\"\u001b[39m: \u001b[32m140\u001b[39m,\n\u001b[32m     67\u001b[39m               \u001b[33m\"\u001b[39m\u001b[33mtotal_tokens\u001b[39m\u001b[33m\"\u001b[39m: \u001b[32m373\u001b[39m\n\u001b[32m     68\u001b[39m             }\n\u001b[32m     69\u001b[39m           },\n\u001b[32m     70\u001b[39m           \u001b[33m\"\u001b[39m\u001b[33mlc\u001b[39m\u001b[33m\"\u001b[39m: \u001b[32m1\u001b[39m,\n\u001b[32m     71\u001b[39m           \u001b[33m\"\u001b[39m\u001b[33mtype\u001b[39m\u001b[33m\"\u001b[39m: \u001b[33m\"\u001b[39m\u001b[33mconstructor\u001b[39m\u001b[33m\"\u001b[39m\n\u001b[32m     72\u001b[39m         },\n\u001b[32m     73\u001b[39m         \u001b[33m\"\u001b[39m\u001b[33mtext\u001b[39m\u001b[33m\"\u001b[39m: \u001b[33m\"\u001b[39m\u001b[33m\"\u001b[39m,\n\u001b[32m     74\u001b[39m         \u001b[33m\"\u001b[39m\u001b[33mtype\u001b[39m\u001b[33m\"\u001b[39m: \u001b[33m\"\u001b[39m\u001b[33mChatGeneration\u001b[39m\u001b[33m\"\u001b[39m\n\u001b[32m     75\u001b[39m       }\n\u001b[32m     76\u001b[39m     ]\n\u001b[32m     77\u001b[39m   ],\n\u001b[32m     78\u001b[39m   \u001b[33m\"\u001b[39m\u001b[33mllm_output\u001b[39m\u001b[33m\"\u001b[39m: {\n\u001b[32m     79\u001b[39m     \u001b[33m\"\u001b[39m\u001b[33mmodel_name\u001b[39m\u001b[33m\"\u001b[39m: \u001b[33m\"\u001b[39m\u001b[33mopenai/gpt-oss-120b\u001b[39m\u001b[33m\"\u001b[39m,\n\u001b[32m     80\u001b[39m     \u001b[33m\"\u001b[39m\u001b[33mservice_tier\u001b[39m\u001b[33m\"\u001b[39m: \u001b[33m\"\u001b[39m\u001b[33mon_demand\u001b[39m\u001b[33m\"\u001b[39m,\n\u001b[32m     81\u001b[39m     \u001b[33m\"\u001b[39m\u001b[33msystem_fingerprint\u001b[39m\u001b[33m\"\u001b[39m: \u001b[33m\"\u001b[39m\u001b[33mfp_1d1727abc9\u001b[39m\u001b[33m\"\u001b[39m,\n\u001b[32m     82\u001b[39m     \u001b[33m\"\u001b[39m\u001b[33mtoken_usage\u001b[39m\u001b[33m\"\u001b[39m: {\n\u001b[32m     83\u001b[39m       \u001b[33m\"\u001b[39m\u001b[33mcompletion_time\u001b[39m\u001b[33m\"\u001b[39m: \u001b[32m0.315296486\u001b[39m,\n\u001b[32m     84\u001b[39m       \u001b[33m\"\u001b[39m\u001b[33mcompletion_tokens\u001b[39m\u001b[33m\"\u001b[39m: \u001b[32m140\u001b[39m,\n\u001b[32m     85\u001b[39m       \u001b[33m\"\u001b[39m\u001b[33mprompt_time\u001b[39m\u001b[33m\"\u001b[39m: \u001b[32m0.014157483\u001b[39m,\n\u001b[32m     86\u001b[39m       \u001b[33m\"\u001b[39m\u001b[33mprompt_tokens\u001b[39m\u001b[33m\"\u001b[39m: \u001b[32m233\u001b[39m,\n\u001b[32m     87\u001b[39m       \u001b[33m\"\u001b[39m\u001b[33mqueue_time\u001b[39m\u001b[33m\"\u001b[39m: \u001b[32m0.049337607\u001b[39m,\n\u001b[32m     88\u001b[39m       \u001b[33m\"\u001b[39m\u001b[33mtotal_time\u001b[39m\u001b[33m\"\u001b[39m: \u001b[32m0.329453969\u001b[39m,\n\u001b[32m     89\u001b[39m       \u001b[33m\"\u001b[39m\u001b[33mtotal_tokens\u001b[39m\u001b[33m\"\u001b[39m: \u001b[32m373\u001b[39m\n\u001b[32m     90\u001b[39m     }\n\u001b[32m     91\u001b[39m   },\n\u001b[32m     92\u001b[39m   \u001b[33m\"\u001b[39m\u001b[33mrun\u001b[39m\u001b[33m\"\u001b[39m: null,\n\u001b[32m     93\u001b[39m   \u001b[33m\"\u001b[39m\u001b[33mtype\u001b[39m\u001b[33m\"\u001b[39m: \u001b[33m\"\u001b[39m\u001b[33mLLMResult\u001b[39m\u001b[33m\"\u001b[39m}\n",
      "\u001b[31mNameError\u001b[39m: name 'null' is not defined"
     ]
    }
   ],
   "source": []
  },
  {
   "cell_type": "code",
   "execution_count": null,
   "id": "8fd22ce8",
   "metadata": {},
   "outputs": [],
   "source": []
  },
  {
   "cell_type": "code",
   "execution_count": 15,
   "id": "4ea9dfeb",
   "metadata": {},
   "outputs": [
    {
     "data": {
      "text/plain": [
       "[[{'generation_info': {'finish_reason': 'tool_calls', 'logprobs': '123'},\n",
       "   'message': {'id': ['langchain', 'schema', 'messages', 'AIMessage'],\n",
       "    'kwargs': {'additional_kwargs': {'reasoning_content': 'User wants to add expense under food category, description \"Samosa\", cost 40, date today. Need to call add_expense with amount 40, category \"Food\", date today (ISO format). Also note note could be \"Samosa\". subcategory maybe not needed. We\\'ll use note field. Let\\'s get today\\'s date. Assume today is 2025-10-26. Use that.',\n",
       "      'tool_calls': [{'function': {'arguments': '{\"amount\":40,\"category\":\"Food\",\"date\":\"2025-10-26\",\"note\":\"Samosa\"}',\n",
       "         'name': 'add_expense'},\n",
       "        'id': 'fc_604cd561-31d6-45ad-b475-bb839b585e20',\n",
       "        'type': 'function'}]},\n",
       "     'content': '',\n",
       "     'id': 'lc_run--61125689-9f54-4e89-a063-c13ad38a31a3-0',\n",
       "     'invalid_tool_calls': [],\n",
       "     'response_metadata': {'finish_reason': 'tool_calls',\n",
       "      'logprobs': '123',\n",
       "      'model_name': 'openai/gpt-oss-120b',\n",
       "      'model_provider': 'groq',\n",
       "      'service_tier': 'on_demand',\n",
       "      'system_fingerprint': 'fp_1d1727abc9',\n",
       "      'token_usage': {'completion_time': 0.315296486,\n",
       "       'completion_tokens': 140,\n",
       "       'prompt_time': 0.014157483,\n",
       "       'prompt_tokens': 233,\n",
       "       'queue_time': 0.049337607,\n",
       "       'total_time': 0.329453969,\n",
       "       'total_tokens': 373}},\n",
       "     'tool_calls': [{'args': {'amount': 40,\n",
       "        'category': 'Food',\n",
       "        'date': '2025-10-26',\n",
       "        'note': 'Samosa'},\n",
       "       'id': 'fc_604cd561-31d6-45ad-b475-bb839b585e20',\n",
       "       'name': 'add_expense',\n",
       "       'type': 'tool_call'}],\n",
       "     'type': 'ai',\n",
       "     'usage_metadata': {'input_tokens': 233,\n",
       "      'output_tokens': 140,\n",
       "      'total_tokens': 373}},\n",
       "    'lc': 1,\n",
       "    'type': 'constructor'},\n",
       "   'text': '',\n",
       "   'type': 'ChatGeneration'}]]"
      ]
     },
     "execution_count": 15,
     "metadata": {},
     "output_type": "execute_result"
    }
   ],
   "source": [
    "response[\"generations\"]"
   ]
  },
  {
   "cell_type": "code",
   "execution_count": 3,
   "id": "633cce4c",
   "metadata": {},
   "outputs": [],
   "source": [
    "state={\n",
    "    \"Name\":\"Saksham\",\n",
    "    \"Class\":\"10th,12th\"\n",
    "}"
   ]
  },
  {
   "cell_type": "code",
   "execution_count": 4,
   "id": "7df5f156",
   "metadata": {},
   "outputs": [
    {
     "data": {
      "text/plain": [
       "'10th,12th'"
      ]
     },
     "execution_count": 4,
     "metadata": {},
     "output_type": "execute_result"
    }
   ],
   "source": [
    "state.get(\"Class\")"
   ]
  },
  {
   "cell_type": "code",
   "execution_count": 5,
   "id": "e2efa24e",
   "metadata": {},
   "outputs": [],
   "source": [
    "class AIMessage:\n",
    "    def __init__(self, content):\n",
    "        self.content = content\n",
    "\n",
    "result = AIMessage(\"This is the AI output\")\n"
   ]
  },
  {
   "cell_type": "code",
   "execution_count": 6,
   "id": "798550b1",
   "metadata": {},
   "outputs": [
    {
     "data": {
      "text/plain": [
       "True"
      ]
     },
     "execution_count": 6,
     "metadata": {},
     "output_type": "execute_result"
    }
   ],
   "source": [
    "hasattr(result,\"content\")"
   ]
  },
  {
   "cell_type": "markdown",
   "id": "3fdc3424",
   "metadata": {},
   "source": [
    "How Multiple Object is being there"
   ]
  },
  {
   "cell_type": "code",
   "execution_count": 7,
   "id": "6332ae00",
   "metadata": {},
   "outputs": [],
   "source": [
    "class MessagePart:\n",
    "    def __init__(self, text):\n",
    "        self.text = text\n",
    "\n",
    "class AIMessage:\n",
    "    def __init__(self, content):\n",
    "        self.content = content\n",
    "\n",
    "result = AIMessage([\n",
    "    MessagePart(\"Part 1 of the response\"),\n",
    "    MessagePart(\"Part 2 of the response\")\n",
    "])\n"
   ]
  },
  {
   "cell_type": "code",
   "execution_count": 8,
   "id": "4d44fe73",
   "metadata": {},
   "outputs": [
    {
     "name": "stdout",
     "output_type": "stream",
     "text": [
      "[<__main__.MessagePart object at 0x000001F281025ED0>, <__main__.MessagePart object at 0x000001F281025E50>]\n"
     ]
    }
   ],
   "source": [
    "print(result.content)"
   ]
  },
  {
   "cell_type": "code",
   "execution_count": 9,
   "id": "2e47e1d2",
   "metadata": {},
   "outputs": [
    {
     "name": "stdout",
     "output_type": "stream",
     "text": [
      "Part 1 of the response\n",
      "Part 2 of the response\n"
     ]
    }
   ],
   "source": [
    "print(result.content[0].text)\n",
    "print(result.content[1].text)"
   ]
  },
  {
   "cell_type": "code",
   "execution_count": 11,
   "id": "f9c18698",
   "metadata": {},
   "outputs": [
    {
     "data": {
      "text/plain": [
       "True"
      ]
     },
     "execution_count": 11,
     "metadata": {},
     "output_type": "execute_result"
    }
   ],
   "source": [
    "isinstance(result.content, list)"
   ]
  },
  {
   "cell_type": "code",
   "execution_count": 12,
   "id": "41e274d3",
   "metadata": {},
   "outputs": [
    {
     "data": {
      "text/plain": [
       "[<__main__.MessagePart at 0x1f281025ed0>,\n",
       " <__main__.MessagePart at 0x1f281025e50>]"
      ]
     },
     "execution_count": 12,
     "metadata": {},
     "output_type": "execute_result"
    }
   ],
   "source": [
    "result.content"
   ]
  },
  {
   "cell_type": "code",
   "execution_count": 13,
   "id": "243dbea4",
   "metadata": {},
   "outputs": [
    {
     "data": {
      "text/plain": [
       "['Part 1 of the response', 'Part 2 of the response']"
      ]
     },
     "execution_count": 13,
     "metadata": {},
     "output_type": "execute_result"
    }
   ],
   "source": [
    "[item.text if hasattr(item, \"text\") else str(item) for item in result.content]\n",
    "# [\"Part 1 of the response\", \"Part 2 of the response\"]\n"
   ]
  },
  {
   "cell_type": "code",
   "execution_count": null,
   "id": "45c3d4f7",
   "metadata": {},
   "outputs": [],
   "source": []
  }
 ],
 "metadata": {
  "kernelspec": {
   "display_name": "myvenv",
   "language": "python",
   "name": "python3"
  },
  "language_info": {
   "codemirror_mode": {
    "name": "ipython",
    "version": 3
   },
   "file_extension": ".py",
   "mimetype": "text/x-python",
   "name": "python",
   "nbconvert_exporter": "python",
   "pygments_lexer": "ipython3",
   "version": "3.11.7"
  }
 },
 "nbformat": 4,
 "nbformat_minor": 5
}
