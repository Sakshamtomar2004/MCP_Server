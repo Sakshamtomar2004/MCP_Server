{
 "cells": [
  {
   "cell_type": "code",
   "execution_count": 9,
   "id": "574c3bfe",
   "metadata": {},
   "outputs": [
    {
     "name": "stderr",
     "output_type": "stream",
     "text": [
      "DEBUG:urllib3.connectionpool:Starting new HTTPS connection (1): oauth2.googleapis.com:443\n",
      "DEBUG:urllib3.connectionpool:https://oauth2.googleapis.com:443 \"POST /token HTTP/1.1\" 200 None\n",
      "INFO:googleapiclient.discovery_cache:file_cache is only supported with oauth2client<4.0.0\n"
     ]
    }
   ],
   "source": [
    "from langchain_google_community import GmailToolkit\n",
    "\n",
    "# Instantiation reads credentials.json and manages OAuth flow automatically\n",
    "toolkit = GmailToolkit()\n"
   ]
  },
  {
   "cell_type": "code",
   "execution_count": 10,
   "id": "f9aca5dd",
   "metadata": {},
   "outputs": [
    {
     "name": "stdout",
     "output_type": "stream",
     "text": [
      "[GmailCreateDraft(api_resource=<googleapiclient.discovery.Resource object at 0x000001D79F7E5650>), GmailSendMessage(api_resource=<googleapiclient.discovery.Resource object at 0x000001D79F7E5650>), GmailSearch(api_resource=<googleapiclient.discovery.Resource object at 0x000001D79F7E5650>), GmailGetMessage(api_resource=<googleapiclient.discovery.Resource object at 0x000001D79F7E5650>), GmailGetThread(api_resource=<googleapiclient.discovery.Resource object at 0x000001D79F7E5650>)]\n"
     ]
    }
   ],
   "source": [
    "tools = toolkit.get_tools()\n",
    "print(tools)\n"
   ]
  },
  {
   "cell_type": "code",
   "execution_count": 11,
   "id": "2ce94845",
   "metadata": {},
   "outputs": [
    {
     "name": "stderr",
     "output_type": "stream",
     "text": [
      "INFO:googleapiclient.discovery_cache:file_cache is only supported with oauth2client<4.0.0\n"
     ]
    }
   ],
   "source": [
    "from dotenv import load_dotenv\n",
    "load_dotenv()\n",
    "import os, getpass\n",
    "from langchain.chat_models import init_chat_model\n",
    "from langgraph.prebuilt import create_react_agent\n",
    "\n",
    "# Ensure Google API key for Gemini\n",
    "# Initialize LLM\n",
    "llm = init_chat_model(\"gemini-2.5-flash\", model_provider=\"google_genai\")\n",
    "\n",
    "# Instantiate GmailToolkit as shown above\n",
    "toolkit = GmailToolkit()\n",
    "tools = toolkit.get_tools()\n",
    "\n",
    "# Create agent\n",
    "agent = create_react_agent(llm, tools)\n"
   ]
  },
  {
   "cell_type": "code",
   "execution_count": 12,
   "id": "13d36818",
   "metadata": {},
   "outputs": [],
   "source": [
    "response = agent.ainvoke({\n",
    "    \"messages\": [\n",
    "        {\"role\": \"user\", \"content\": (\n",
    "            \"Send an email to tomarsaksham2006@gmail.com \"\n",
    "            \"with subject 'Meeting Reminder' \"\n",
    "            \"and body 'Don't forget our meeting tomorrow at 10 AM.'\" \n",
    "        )}\n",
    "    ]\n",
    "})\n",
    "\n",
    "# The agent will choose and call GmailSendMessage automatically\n"
   ]
  },
  {
   "cell_type": "code",
   "execution_count": 13,
   "id": "9823f813",
   "metadata": {},
   "outputs": [
    {
     "name": "stderr",
     "output_type": "stream",
     "text": [
      "DEBUG:googleapiclient.discovery:URL being requested: POST https://gmail.googleapis.com/gmail/v1/users/me/messages/send?alt=json\n",
      "C:\\Users\\asus\\AppData\\Local\\Temp\\ipykernel_14780\\2363031168.py:4: RuntimeWarning: coroutine 'Pregel.ainvoke' was never awaited\n",
      "  response = await agent.ainvoke({\n",
      "RuntimeWarning: Enable tracemalloc to get the object allocation traceback\n"
     ]
    },
    {
     "name": "stdout",
     "output_type": "stream",
     "text": [
      "{'messages': [HumanMessage(content=\"Send an email to tomarsaksham2006@gmail.com with subject 'Meeting Reminder' and body 'Don't forget our meeting tomorrow at 10 AM.'\", additional_kwargs={}, response_metadata={}, id='db7d07e0-d838-4197-b950-898bdcc7771f'), AIMessage(content='', additional_kwargs={'function_call': {'name': 'send_gmail_message', 'arguments': '{\"message\": \"Don\\'t forget our meeting tomorrow at 10 AM.\", \"to\": [\"tomarsaksham2006@gmail.com\"], \"subject\": \"Meeting Reminder\"}'}}, response_metadata={'prompt_feedback': {'block_reason': 0, 'safety_ratings': []}, 'finish_reason': 'STOP', 'model_name': 'gemini-2.5-flash', 'safety_ratings': []}, id='run--94ec5d2e-4461-41d1-acad-53e6cfcd3c42-0', tool_calls=[{'name': 'send_gmail_message', 'args': {'message': \"Don't forget our meeting tomorrow at 10 AM.\", 'to': ['tomarsaksham2006@gmail.com'], 'subject': 'Meeting Reminder'}, 'id': '7e4a481a-2d26-4a74-8d59-681993fd0d0a', 'type': 'tool_call'}], usage_metadata={'input_tokens': 656, 'output_tokens': 163, 'total_tokens': 819, 'input_token_details': {'cache_read': 0}, 'output_token_details': {'reasoning': 113}}), ToolMessage(content='Message sent. Message Id: 19863bedf04dc448', name='send_gmail_message', id='0e8e1929-461b-4a55-b538-12f4a759eb99', tool_call_id='7e4a481a-2d26-4a74-8d59-681993fd0d0a'), AIMessage(content='Email sent successfully!', additional_kwargs={}, response_metadata={'prompt_feedback': {'block_reason': 0, 'safety_ratings': []}, 'finish_reason': 'STOP', 'model_name': 'gemini-2.5-flash', 'safety_ratings': []}, id='run--265f3287-ec94-4a7a-94f9-50e87a2435ed-0', usage_metadata={'input_tokens': 742, 'output_tokens': 4, 'total_tokens': 746, 'input_token_details': {'cache_read': 0}})]}\n"
     ]
    }
   ],
   "source": [
    "import logging\n",
    "logging.basicConfig(level=logging.DEBUG)\n",
    "\n",
    "response = await agent.ainvoke({\n",
    "    \"messages\": [\n",
    "        {\n",
    "            \"role\": \"user\",\n",
    "            \"content\": (\n",
    "                \"Send an email to tomarsaksham2006@gmail.com \"\n",
    "                \"with subject 'Meeting Reminder' \"\n",
    "                \"and body 'Don't forget our meeting tomorrow at 10 AM.'\"\n",
    "            )\n",
    "        }\n",
    "    ]\n",
    "})\n",
    "print(response) \n"
   ]
  },
  {
   "cell_type": "code",
   "execution_count": null,
   "id": "9988ffa4",
   "metadata": {},
   "outputs": [],
   "source": []
  }
 ],
 "metadata": {
  "kernelspec": {
   "display_name": ".venv",
   "language": "python",
   "name": "python3"
  },
  "language_info": {
   "codemirror_mode": {
    "name": "ipython",
    "version": 3
   },
   "file_extension": ".py",
   "mimetype": "text/x-python",
   "name": "python",
   "nbconvert_exporter": "python",
   "pygments_lexer": "ipython3",
   "version": "3.11.7"
  }
 },
 "nbformat": 4,
 "nbformat_minor": 5
}
