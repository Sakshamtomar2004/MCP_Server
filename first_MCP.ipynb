{
 "cells": [
  {
   "cell_type": "code",
   "execution_count": 2,
   "id": "e9c16896",
   "metadata": {},
   "outputs": [],
   "source": [
    "from mcp.server.fastmcp import FastMCP\n",
    "mcp=FastMCP(name=\"hello-mcp\",stateless_http=True)"
   ]
  },
  {
   "cell_type": "code",
   "execution_count": null,
   "id": "8b4521ea",
   "metadata": {},
   "outputs": [],
   "source": [
    "mcp_app=mcp.streamable_http_app()"
   ]
  },
  {
   "cell_type": "code",
   "execution_count": null,
   "id": "2f054755",
   "metadata": {},
   "outputs": [],
   "source": []
  }
 ],
 "metadata": {
  "kernelspec": {
   "display_name": ".venv",
   "language": "python",
   "name": "python3"
  },
  "language_info": {
   "codemirror_mode": {
    "name": "ipython",
    "version": 3
   },
   "file_extension": ".py",
   "mimetype": "text/x-python",
   "name": "python",
   "nbconvert_exporter": "python",
   "pygments_lexer": "ipython3",
   "version": "3.11.7"
  }
 },
 "nbformat": 4,
 "nbformat_minor": 5
}
